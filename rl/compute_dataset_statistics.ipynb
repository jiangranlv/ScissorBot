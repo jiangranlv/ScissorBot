{
 "cells": [
  {
   "cell_type": "code",
   "execution_count": 1,
   "metadata": {},
   "outputs": [],
   "source": [
    "%load_ext autoreload\n",
    "%autoreload 2"
   ]
  },
  {
   "cell_type": "code",
   "execution_count": 2,
   "metadata": {},
   "outputs": [],
   "source": [
    "import sys\n",
    "import os\n",
    "sys.path.append(os.path.join(os.getcwd(), \"..\"))"
   ]
  },
  {
   "cell_type": "code",
   "execution_count": 3,
   "metadata": {},
   "outputs": [
    {
     "name": "stdout",
     "output_type": "stream",
     "text": [
      "Jupyter environment detected. Enabling Open3D WebVisualizer.\n",
      "[Open3D INFO] WebRTC GUI backend enabled.\n",
      "[Open3D INFO] WebRTCWindowSystem: HTTP handshake server disabled.\n",
      "[Taichi] version 1.6.0, llvm 15.0.4, commit f1c6fbbd, linux, python 3.8.16\n"
     ]
    },
    {
     "name": "stderr",
     "output_type": "stream",
     "text": [
      "[I 06/23/23 18:24:45.116 3773163] [shell.py:_shell_pop_print@23] Graphical python shell detected, using wrapped sys.stdout\n"
     ]
    }
   ],
   "source": [
    "import numpy as np\n",
    "from rl.behavior_clone import BehaviorCloningDataset\n",
    "from rl.pytorch_utils import ActionLookupTable"
   ]
  },
  {
   "cell_type": "code",
   "execution_count": 4,
   "metadata": {},
   "outputs": [
    {
     "name": "stdout",
     "output_type": "stream",
     "text": [
      "dataset train: point_cloud:((71878, 4096, 6), dtype('float32')), pose:((71878, 8), dtype('float32')) action:((71878, 4), dtype('float32'))\n"
     ]
    }
   ],
   "source": [
    "dataset = BehaviorCloningDataset(\"../rloutputs/zarr_bc_v2_0\", \"train\")"
   ]
  },
  {
   "cell_type": "code",
   "execution_count": 5,
   "metadata": {},
   "outputs": [
    {
     "name": "stdout",
     "output_type": "stream",
     "text": [
      "point_cloud mean:[0.08137471 0.00795161 0.15309088 0.7606751  0.74031174 0.74031174], std:[0.08954421 0.05191778 0.07997978 0.09143293 0.15434909 0.15434909]\n",
      "pose mean:[-0.09131761  0.02888361  0.03622385  0.14638498  0.16358851  0.0074226\n",
      "  0.16835716  0.14005724], std:[0.18268688 0.10507938 0.12708044 0.0675601  0.19768135 0.20669429\n",
      " 0.6547538  0.6439879 ]\n",
      "translation mean:[ 0.03259763 -0.00670006  0.00247545] std:[0.05228894 0.08435147 0.0252396 ]\n"
     ]
    }
   ],
   "source": [
    "N = 1000\n",
    "all_pc = []\n",
    "all_pose = []\n",
    "all_ac = []\n",
    "for i in range(N):\n",
    "    pc, pose, ac = dataset[i]\n",
    "    all_pc.append(pc)\n",
    "    all_pose.append([pose])\n",
    "    all_ac.append([ac])\n",
    "\n",
    "all_pc = np.concatenate(all_pc, axis=0)\n",
    "all_pose = np.concatenate(all_pose, axis=0)\n",
    "all_ac = np.concatenate(all_ac, axis=0)\n",
    "all_translation = all_ac[np.where(all_ac[..., 0] == ActionLookupTable[\"Translate\"][\"ActionID\"])[0], :]\\\n",
    "    [..., ActionLookupTable[\"Translate\"][\"TargetIndices\"]]\n",
    "\n",
    "print(f\"point_cloud mean:{np.mean(all_pc, axis=0)}, std:{np.std(all_pc, axis=0)}\")\n",
    "print(f\"pose mean:{np.mean(all_pose, axis=0)}, std:{np.std(all_pose, axis=0)}\")\n",
    "print(f\"translation mean:{np.mean(all_translation, axis=0)} std:{np.std(all_translation, axis=0)}\")"
   ]
  }
 ],
 "metadata": {
  "kernelspec": {
   "display_name": "taichi",
   "language": "python",
   "name": "python3"
  },
  "language_info": {
   "codemirror_mode": {
    "name": "ipython",
    "version": 3
   },
   "file_extension": ".py",
   "mimetype": "text/x-python",
   "name": "python",
   "nbconvert_exporter": "python",
   "pygments_lexer": "ipython3",
   "version": "3.8.16"
  },
  "orig_nbformat": 4
 },
 "nbformat": 4,
 "nbformat_minor": 2
}
